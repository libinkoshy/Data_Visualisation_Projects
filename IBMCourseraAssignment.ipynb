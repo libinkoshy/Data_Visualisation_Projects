{
  "nbformat": 4,
  "nbformat_minor": 0,
  "metadata": {
    "colab": {
      "provenance": [],
      "authorship_tag": "ABX9TyMSZww3FZKvSCzlAOZFMAzw",
      "include_colab_link": true
    },
    "kernelspec": {
      "name": "python3",
      "display_name": "Python 3"
    },
    "language_info": {
      "name": "python"
    }
  },
  "cells": [
    {
      "cell_type": "markdown",
      "metadata": {
        "id": "view-in-github",
        "colab_type": "text"
      },
      "source": [
        "<a href=\"https://colab.research.google.com/github/libinkoshy/Data_Visualisation_Projects/blob/master/IBMCourseraAssignment.ipynb\" target=\"_parent\"><img src=\"https://colab.research.google.com/assets/colab-badge.svg\" alt=\"Open In Colab\"/></a>"
      ]
    },
    {
      "cell_type": "code",
      "execution_count": 1,
      "metadata": {
        "id": "77wUDAJAMxi_"
      },
      "outputs": [],
      "source": [
        "import sqlite3\n",
        "conn = sqlite3.connect('Assignment2.db')\n",
        "cursor_obj = conn.cursor()"
      ]
    },
    {
      "cell_type": "code",
      "source": [
        "# Creating CENSUS_DATA table\n",
        "table = \"\"\" create table IF NOT EXISTS CENSUS_DATA(COMMUNITY_AREA_NUMBER INTEGER, COMMUNITY_AREA_NAME VARCHAR(50), PERCENT_OF_HOUSING_CROWDED INTEGER, PERCENT_HOUSEHOLDS_BELOW_POVERTY INTEGER, PERCENT_AGED_16__UNEMPLOYED INTEGER, PERCENT_AGED_25__WITHOUT_HIGH_SCHOOL_DIPLOMA INTEGER, PERCENT_AGED_UNDER_18_OR_OVER_64 INTEGER, PER_CAPITA_INCOME INTEGER, HARDSHIP_INDEX INTEGER);\"\"\"\n",
        "\n",
        "cursor_obj.execute(table)\n",
        "\n",
        "print(\"Table is Ready\")"
      ],
      "metadata": {
        "colab": {
          "base_uri": "https://localhost:8080/"
        },
        "id": "iOO80okhNVRp",
        "outputId": "a71a44c3-6aab-490c-af8e-67451d4f50bc"
      },
      "execution_count": 2,
      "outputs": [
        {
          "output_type": "stream",
          "name": "stdout",
          "text": [
            "Table is Ready\n"
          ]
        }
      ]
    },
    {
      "cell_type": "code",
      "source": [
        "import pandas\n",
        "df = pandas.read_csv('/content/ChicagoCensusData.csv')\n",
        "df.to_sql(\"CENSUS_DATA\", conn, if_exists='replace', index=False,method=\"multi\")\n"
      ],
      "metadata": {
        "colab": {
          "base_uri": "https://localhost:8080/"
        },
        "id": "qs44oouOQp9q",
        "outputId": "10a64cae-169a-46c6-c235-9e8bf288b9e2"
      },
      "execution_count": 3,
      "outputs": [
        {
          "output_type": "execute_result",
          "data": {
            "text/plain": [
              "78"
            ]
          },
          "metadata": {},
          "execution_count": 3
        }
      ]
    },
    {
      "cell_type": "code",
      "source": [
        "## Fetch few rows from the table\n",
        "statement = '''SELECT * FROM CENSUS_DATA'''\n",
        "cursor_obj.execute(statement)\n",
        "\n",
        "print(\"All the data\")\n",
        "# If you want to fetch few rows from the table we use fetchmany(numberofrows) and mention the number how many rows you want to fetch\n",
        "output_many = cursor_obj.fetchmany(2)\n",
        "for row_many in output_many:\n",
        "  print(row_many)"
      ],
      "metadata": {
        "colab": {
          "base_uri": "https://localhost:8080/"
        },
        "id": "MQBbKB4_RKTK",
        "outputId": "e18c77c4-5936-4100-bc23-bba504b1dc5a"
      },
      "execution_count": 4,
      "outputs": [
        {
          "output_type": "stream",
          "name": "stdout",
          "text": [
            "All the data\n",
            "(1.0, 'Rogers Park', 7.7, 23.6, 8.7, 18.2, 27.5, 23939, 39.0)\n",
            "(2.0, 'West Ridge', 7.8, 17.2, 8.8, 20.8, 38.5, 23040, 46.0)\n"
          ]
        }
      ]
    },
    {
      "cell_type": "code",
      "source": [
        "# Creating CHICAGO_PUBLIC_SCHOOLS table\n",
        "table = \"\"\" create table IF NOT EXISTS CHICAGO_PUBLIC_SCHOOLS(School_ID INTEGER, NAME_OF_SCHOOL VARCHAR(100),\tElementary_Middle_or_High_School VARCHAR(10), Street_Address VARCHAR(100), City VARCHAR(100), State VARCHAR(100), ZIP_Code VARCHAR(100), Phone_Number VARCHAR(100), Link VARCHAR(100), Network_Manager VARCHAR(100), Collaborative_Name VARCHAR(100), Adequate_Yearly_Progress_Made\tVARCHAR(2), Track_Schedule VARCHAR(100), CPS_Performance_Policy_Status VARCHAR(100), CPS_Performance_Policy_Level VARCHAR(100), HEALTHY_SCHOOL_CERTIFIED VARCHAR(100), Safety_Icon VARCHAR(100), SAFETY_SCORE INTEGER, Family_Involvement_Icon VARCHAR(100), Family_Involvement_Score INTEGER, Environment_Icon VARCHAR(100), Environment_Score INTEGER, Instruction_Icon VARCHAR(100), Instruction_Score INTEGER, Leaders_Icon VARCHAR(100), Leaders_Score INTEGER, Teachers_Icon VARCHAR(100), Teachers_Score INTEGER,\tParent_Engagement_Icon VARCHAR(100), Parent_Engagement_Score INTEGER, Parent_Environment_Icon VARCHAR(100), Parent_Environment_Score INTEGER, AVERAGE_STUDENT_ATTENDANCE VARCHAR(100), Rate_of_Misconducts__per_100_students INTEGER, Average_Teacher_Attendance INTEGER, Individualized_Education_Program_Compliance_Rate INTEGER, Pk_2_Literacy INTEGER, Pk_2_Math INTEGER, Gr3_5_Grade_Level_Math INTEGER, Gr3_5_Grade_Level_Read INTEGER, Gr3_5_Keep_Pace_Read INTEGER, Gr3_5_Keep_Pace_Math INTEGER, Gr6_8_Grade_Level_Math INTEGER, Gr6_8_Grade_Level_Read INTEGER, Gr6_8_Keep_Pace_Math INTEGER, Gr6_8_Keep_Pace_Read INTEGER, Gr_8_Explore_Math INTEGER, Gr_8_Explore_Read INTEGER, ISAT_Exceeding_Math INTEGER, ISAT_Exceeding_Reading INTEGER, ISAT_Value_Add_Math INTEGER, ISAT_Value_Add_Read INTEGER, ISAT_Value_Add_Color_Math VARCHAR(10), ISAT_Value_Add_Color_Read VARCHAR(10), Students_Taking__Algebra INTEGER, Students_Passing__Algebra\tINTEGER, Nineth_Grade_EXPLORE_2009 INTEGER, Nineth_Grade_EXPLORE_2010 INTEGER, Tenth_Grade_PLAN_2009 INTEGER, Tenth_Grade_PLAN_2010 INTEGER, Net_Change_EXPLORE_and_PLAN INTEGER, Eleventh_Grade_Average_ACT_2011 INTEGER, Net_Change_PLAN_and_ACT INTEGER, College_Eligibility INTEGER, Graduation_Rate INTEGER, College_Enrollment_Rate INTEGER, COLLEGE_ENROLLMENT INTEGER, General_Services_Route INTEGER, Freshman_on_Track_Rate INTEGER, X_COORDINATE INTEGER, Y_COORDINATE INTEGER, Latitude INTEGER, Longitude INTEGER, COMMUNITY_AREA_NUMBER INTEGER, COMMUNITY_AREA_NAME VARCHARD(100), Ward INTEGER, Police_District INTEGER, Location VARCHAR(100));\"\"\"\n",
        "\n",
        "cursor_obj.execute(table)\n",
        "\n",
        "print(\"Table is Ready\")"
      ],
      "metadata": {
        "colab": {
          "base_uri": "https://localhost:8080/"
        },
        "id": "RVi36Y85S4l2",
        "outputId": "d3f3b97c-c48b-480c-f76d-f8a68dc93392"
      },
      "execution_count": 5,
      "outputs": [
        {
          "output_type": "stream",
          "name": "stdout",
          "text": [
            "Table is Ready\n"
          ]
        }
      ]
    },
    {
      "cell_type": "code",
      "source": [
        "df2 = pandas.read_csv('/content/ChicagoPublicSchools.csv')\n",
        "df2.to_sql(\"CHICAGO_PUBLIC_SCHOOLS\", conn, if_exists='replace', index=False,method=\"multi\")\n"
      ],
      "metadata": {
        "colab": {
          "base_uri": "https://localhost:8080/"
        },
        "id": "qk4Lj2ctZgd8",
        "outputId": "e5291af7-0bf7-45ab-e3a9-c39fda12b7d7"
      },
      "execution_count": 6,
      "outputs": [
        {
          "output_type": "execute_result",
          "data": {
            "text/plain": [
              "566"
            ]
          },
          "metadata": {},
          "execution_count": 6
        }
      ]
    },
    {
      "cell_type": "code",
      "source": [
        "## Fetch few rows from the table\n",
        "statement = '''SELECT * FROM CHICAGO_PUBLIC_SCHOOLS'''\n",
        "cursor_obj.execute(statement)\n",
        "\n",
        "print(\"All the data\")\n",
        "# If you want to fetch few rows from the table we use fetchmany(numberofrows) and mention the number how many rows you want to fetch\n",
        "output_many = cursor_obj.fetchmany(2)\n",
        "for row_many in output_many:\n",
        "  print(row_many)"
      ],
      "metadata": {
        "colab": {
          "base_uri": "https://localhost:8080/"
        },
        "id": "RcnncQJMZ2EJ",
        "outputId": "084f6dac-3c37-4176-cffb-8c6f742f4910"
      },
      "execution_count": 7,
      "outputs": [
        {
          "output_type": "stream",
          "name": "stdout",
          "text": [
            "All the data\n",
            "(610038, 'Abraham Lincoln Elementary School', 'ES', '615 W Kemper Pl', 'Chicago', 'IL', 60614, '(773) 534-5720', 'http://schoolreports.cps.edu/SchoolProgressReport_Eng/Spring2011Eng_610038.pdf', 'Fullerton Elementary Network', 'NORTH-NORTHWEST SIDE COLLABORATIVE', 'No', 'Standard', 'Not on Probation', 'Level 1', 'Yes', 'Very Strong', 99.0, 'Very Strong', '99', 'Strong', 74.0, 'Strong', 66.0, 'Weak', '65', 'Strong', '70', 'Strong', '56', 'Average', '47', '96.00%', 2.0, '96.40%', '95.80%', '80.1', '43.3', '89.6', '84.9', '60.7', '62.6', '81.9', '85.2', '52', '62.4', '66.3', '77.9', 69.7, 64.4, 0.2, 0.9, 'Yellow', 'Green', '67.1', '54.5', 'NDA', 'NDA', 'NDA', 'NDA', 'NDA', 'NDA', 'NDA', 'NDA', 'NDA', 'NDA', 813, 33, 'NDA', 1171699.458, 1915829.428, 41.92449696, -87.64452163, 7, 'LINCOLN PARK', 43, 18, '(41.92449696, -87.64452163)')\n",
            "(610281, 'Adam Clayton Powell Paideia Community Academy Elementary School', 'ES', '7511 S South Shore Dr', 'Chicago', 'IL', 60649, '(773) 535-6650', 'http://schoolreports.cps.edu/SchoolProgressReport_Eng/Spring2011Eng_610281.pdf', 'Skyway Elementary Network', 'SOUTH SIDE COLLABORATIVE', 'No', 'Track_E', 'Not on Probation', 'Level 1', 'No', 'Average', 54.0, 'Strong', '66', 'Strong', 74.0, 'Very Strong', 84.0, 'Weak', '63', 'Strong', '76', 'Weak', '46', 'Average', '50', '95.60%', 15.7, '95.30%', '100.00%', '62.4', '51.7', '21.9', '15.1', '29', '42.8', '38.5', '27.4', '44.8', '42.7', '14.1', '34.4', 16.8, 16.5, 0.7, 1.4, 'Green', 'Green', '17.2', '27.3', 'NDA', 'NDA', 'NDA', 'NDA', 'NDA', 'NDA', 'NDA', 'NDA', 'NDA', 'NDA', 521, 46, 'NDA', 1196129.985, 1856209.466, 41.76032435, -87.55673627, 43, 'SOUTH SHORE', 7, 4, '(41.76032435, -87.55673627)')\n"
          ]
        }
      ]
    },
    {
      "cell_type": "code",
      "source": [
        "# Creating CHICAGO_CRIME_DATA table\n",
        "table = \"\"\" create table IF NOT EXISTS CHICAGO_CRIME_DATA(ID INTEGER, CASE_NUMBER VARCHAR(100), DATE_CRIME DATE, BLOCK VARCHAR(100), IUCR\tINTEGER, PRIMARY_TYPE VARCHAR(100), DESCRIPTION VARCHAR(100), LOCATION_DESCRIPTION  VARCHAR(100), ARREST  VARCHAR(100), DOMESTIC  VARCHAR(100), BEAT INTEGER, DISTRICT \tINTEGER, WARD INTEGER, COMMUNITY_AREA_NUMBER\tINTEGER, FBICODE INTEGER, X_COORDINATE \tINTEGER, Y_COORDINATE \tINTEGER, YEAR INTEGER, LATITUDE INTEGER, LONGITUDE INTEGER, LOCATION  VARCHAR(100));\"\"\"\n",
        "\n",
        "cursor_obj.execute(table)\n",
        "\n",
        "print(\"Table is Ready\")"
      ],
      "metadata": {
        "colab": {
          "base_uri": "https://localhost:8080/"
        },
        "id": "_j9vemn3bW8J",
        "outputId": "937e1451-96a3-431f-c45e-a71b4da89bbb"
      },
      "execution_count": 8,
      "outputs": [
        {
          "output_type": "stream",
          "name": "stdout",
          "text": [
            "Table is Ready\n"
          ]
        }
      ]
    },
    {
      "cell_type": "code",
      "source": [
        "df3 = pandas.read_csv('/content/ChicagoCrimeData.csv')\n",
        "df3.to_sql(\"CHICAGO_CRIME_DATA\", conn, if_exists='replace', index=False,method=\"multi\")\n"
      ],
      "metadata": {
        "colab": {
          "base_uri": "https://localhost:8080/"
        },
        "id": "CL2izXX8bxOQ",
        "outputId": "57ff3f2e-d64a-4c44-865b-4fa62a8da587"
      },
      "execution_count": 9,
      "outputs": [
        {
          "output_type": "execute_result",
          "data": {
            "text/plain": [
              "533"
            ]
          },
          "metadata": {},
          "execution_count": 9
        }
      ]
    },
    {
      "cell_type": "code",
      "source": [
        "## Fetch few rows from the table\n",
        "statement = '''SELECT * FROM CHICAGO_CRIME_DATA'''\n",
        "cursor_obj.execute(statement)\n",
        "\n",
        "print(\"All the data\")\n",
        "# If you want to fetch few rows from the table we use fetchmany(numberofrows) and mention the number how many rows you want to fetch\n",
        "output_many = cursor_obj.fetchmany(2)\n",
        "for row_many in output_many:\n",
        "  print(row_many)"
      ],
      "metadata": {
        "colab": {
          "base_uri": "https://localhost:8080/"
        },
        "id": "Eue2cnyEb9ue",
        "outputId": "ee745428-d154-4963-8f50-920f6080b84b"
      },
      "execution_count": 10,
      "outputs": [
        {
          "output_type": "stream",
          "name": "stdout",
          "text": [
            "All the data\n",
            "(3512276, 'HK587712', '8/28/2004', '047XX S KEDZIE AVE', '890', 'THEFT', 'FROM BUILDING', 'SMALL RETAIL STORE', 0, 0, 911, 9, 14.0, 58.0, '6', 1155838.0, 1873050.0, 2004, 41.8074405, -87.70395585, '(41.8074405, -87.703955849)')\n",
            "(3406613, 'HK456306', '6/26/2004', '009XX N CENTRAL PARK AVE', '820', 'THEFT', '$500 AND UNDER', 'OTHER', 0, 0, 1112, 11, 27.0, 23.0, '6', 1152206.0, 1906127.0, 2004, 41.89827996, -87.71640551, '(41.898279962, -87.716405505)')\n"
          ]
        }
      ]
    },
    {
      "cell_type": "code",
      "source": [
        "## Problem 1: Find the total number of crimes recorded in the CRIME table.\n",
        "statement = '''SELECT Count(*) FROM CHICAGO_CRIME_DATA'''\n",
        "cursor_obj.execute(statement)\n",
        "output_many = cursor_obj.fetchall()\n",
        "for row_many in output_many:\n",
        "  print(row_many)"
      ],
      "metadata": {
        "colab": {
          "base_uri": "https://localhost:8080/"
        },
        "id": "ezsgMUBSckfB",
        "outputId": "7da494ab-3fa6-47ff-ce95-881f93c0fa24"
      },
      "execution_count": 11,
      "outputs": [
        {
          "output_type": "stream",
          "name": "stdout",
          "text": [
            "(533,)\n"
          ]
        }
      ]
    },
    {
      "cell_type": "code",
      "source": [
        "## Problem 2: List community areas with per capita income less than 11000.\n",
        "statement = '''SELECT COMMUNITY_AREA_NAME FROM CENSUS_DATA WHERE PER_CAPITA_INCOME<11000'''\n",
        "cursor_obj.execute(statement)\n",
        "output_many = cursor_obj.fetchall()\n",
        "for row_many in output_many:\n",
        "  print(row_many)"
      ],
      "metadata": {
        "colab": {
          "base_uri": "https://localhost:8080/"
        },
        "id": "ZmSb2oFDgtW5",
        "outputId": "728a2aa1-955a-45b3-857a-18fbce084a93"
      },
      "execution_count": 12,
      "outputs": [
        {
          "output_type": "stream",
          "name": "stdout",
          "text": [
            "('West Garfield Park',)\n",
            "('South Lawndale',)\n",
            "('Fuller Park',)\n",
            "('Riverdale',)\n"
          ]
        }
      ]
    },
    {
      "cell_type": "code",
      "source": [
        "## Problem 3: List all case numbers for crimes involving minors?\n",
        "\n",
        "statement = '''SELECT CASE_NUMBER FROM CHICAGO_CRIME_DATA WHERE DESCRIPTION LIKE \"%MINOR%\"'''\n",
        "cursor_obj.execute(statement)\n",
        "output_many = cursor_obj.fetchall()\n",
        "for row_many in output_many:\n",
        "  print(row_many)"
      ],
      "metadata": {
        "colab": {
          "base_uri": "https://localhost:8080/"
        },
        "id": "yoAH8yi8hSmI",
        "outputId": "766032ad-e6c9-444b-eb0f-5ee1cb02c843"
      },
      "execution_count": 13,
      "outputs": [
        {
          "output_type": "stream",
          "name": "stdout",
          "text": [
            "('HL266884',)\n",
            "('HK238408',)\n"
          ]
        }
      ]
    },
    {
      "cell_type": "code",
      "source": [
        "## Problem 4: List all kidnapping crimes involving a child?(children are not considered minors for the purposes of crime analysis)\n",
        "\n",
        "statement = '''SELECT CASE_NUMBER FROM CHICAGO_CRIME_DATA WHERE PRIMARY_TYPE LIKE \"%KIDNAPPING%\" AND DESCRIPTION LIKE \"%CHILD%\"'''\n",
        "cursor_obj.execute(statement)\n",
        "output_many = cursor_obj.fetchall()\n",
        "for row_many in output_many:\n",
        "  print(row_many)"
      ],
      "metadata": {
        "colab": {
          "base_uri": "https://localhost:8080/"
        },
        "id": "9Q0sZLX3o_td",
        "outputId": "c36899ad-966e-4cd5-b6b7-5d269b3a90f7"
      },
      "execution_count": 14,
      "outputs": [
        {
          "output_type": "stream",
          "name": "stdout",
          "text": [
            "('HN144152',)\n"
          ]
        }
      ]
    },
    {
      "cell_type": "code",
      "source": [
        "## Problem 5: What kind of crimes were recorded at schools?\n",
        "\n",
        "statement = '''SELECT DISTINCT(PRIMARY_TYPE) FROM CHICAGO_CRIME_DATA WHERE LOCATION_DESCRIPTION LIKE \"%SCHOOL%\"'''\n",
        "cursor_obj.execute(statement)\n",
        "output_many = cursor_obj.fetchall()\n",
        "for row_many in output_many:\n",
        "  print(row_many)"
      ],
      "metadata": {
        "colab": {
          "base_uri": "https://localhost:8080/"
        },
        "id": "85ZSMvmJqEnn",
        "outputId": "d282ca60-82da-4447-c1f3-c826671a59a6"
      },
      "execution_count": 15,
      "outputs": [
        {
          "output_type": "stream",
          "name": "stdout",
          "text": [
            "('BATTERY',)\n",
            "('CRIMINAL DAMAGE',)\n",
            "('NARCOTICS',)\n",
            "('ASSAULT',)\n",
            "('CRIMINAL TRESPASS',)\n",
            "('PUBLIC PEACE VIOLATION',)\n"
          ]
        }
      ]
    },
    {
      "cell_type": "code",
      "source": [
        "## Problem 6: List the average safety score for all types of schools.\n",
        "\n",
        "statement = '''SELECT Elementary_Middle_or_High_School, AVG(SAFETY_SCORE) FROM CHICAGO_PUBLIC_SCHOOLS GROUP BY Elementary_Middle_or_High_School'''\n",
        "cursor_obj.execute(statement)\n",
        "output_many = cursor_obj.fetchall()\n",
        "for row_many in output_many:\n",
        "  print(row_many)"
      ],
      "metadata": {
        "colab": {
          "base_uri": "https://localhost:8080/"
        },
        "id": "vBtF3DeerZn9",
        "outputId": "f7704d8a-8c60-4c9c-f151-bcd52077ed5a"
      },
      "execution_count": 16,
      "outputs": [
        {
          "output_type": "stream",
          "name": "stdout",
          "text": [
            "('ES', 49.52038369304557)\n",
            "('HS', 49.62352941176471)\n",
            "('MS', 48.0)\n"
          ]
        }
      ]
    },
    {
      "cell_type": "code",
      "source": [
        "import sqlite3\n",
        "conn = sqlite3.connect('Assignment2.db')\n",
        "cursor = conn.cursor()\n",
        "cursor.execute(\"Select * from CHICAGO_PUBLIC_SCHOOLS\")\n",
        "headers = [i[0] for i in cursor.description]\n",
        "print(headers)"
      ],
      "metadata": {
        "colab": {
          "base_uri": "https://localhost:8080/"
        },
        "id": "xay-W0vJO6ad",
        "outputId": "8044dc48-9b4f-4562-ae17-b62035e4ec3f"
      },
      "execution_count": 17,
      "outputs": [
        {
          "output_type": "stream",
          "name": "stdout",
          "text": [
            "['School_ID', 'NAME_OF_SCHOOL', 'Elementary_Middle_or_High_School', 'Street_Address', 'City', 'State', 'ZIP_Code', 'Phone_Number', 'Link', 'Network_Manager', 'Collaborative_Name', 'Adequate_Yearly_Progress_Made_', 'Track_Schedule', 'CPS_Performance_Policy_Status', 'CPS_Performance_Policy_Level', 'HEALTHY_SCHOOL_CERTIFIED', 'Safety_Icon', 'SAFETY_SCORE', 'Family_Involvement_Icon', 'Family_Involvement_Score', 'Environment_Icon', 'Environment_Score', 'Instruction_Icon', 'Instruction_Score', 'Leaders_Icon', 'Leaders_Score', 'Teachers_Icon', 'Teachers_Score', 'Parent_Engagement_Icon', 'Parent_Engagement_Score', 'Parent_Environment_Icon', 'Parent_Environment_Score', 'AVERAGE_STUDENT_ATTENDANCE', 'Rate_of_Misconducts__per_100_students_', 'Average_Teacher_Attendance', 'Individualized_Education_Program_Compliance_Rate', 'Pk_2_Literacy__', 'Pk_2_Math__', 'Gr3_5_Grade_Level_Math__', 'Gr3_5_Grade_Level_Read__', 'Gr3_5_Keep_Pace_Read__', 'Gr3_5_Keep_Pace_Math__', 'Gr6_8_Grade_Level_Math__', 'Gr6_8_Grade_Level_Read__', 'Gr6_8_Keep_Pace_Math_', 'Gr6_8_Keep_Pace_Read__', 'Gr_8_Explore_Math__', 'Gr_8_Explore_Read__', 'ISAT_Exceeding_Math__', 'ISAT_Exceeding_Reading__', 'ISAT_Value_Add_Math', 'ISAT_Value_Add_Read', 'ISAT_Value_Add_Color_Math', 'ISAT_Value_Add_Color_Read', 'Students_Taking__Algebra__', 'Students_Passing__Algebra__', '9th Grade EXPLORE (2009)', '9th Grade EXPLORE (2010)', '10th Grade PLAN (2009)', '10th Grade PLAN (2010)', 'Net_Change_EXPLORE_and_PLAN', '11th Grade Average ACT (2011)', 'Net_Change_PLAN_and_ACT', 'College_Eligibility__', 'Graduation_Rate__', 'College_Enrollment_Rate__', 'COLLEGE_ENROLLMENT', 'General_Services_Route', 'Freshman_on_Track_Rate__', 'X_COORDINATE', 'Y_COORDINATE', 'Latitude', 'Longitude', 'COMMUNITY_AREA_NUMBER', 'COMMUNITY_AREA_NAME', 'Ward', 'Police_District', 'Location']\n"
          ]
        }
      ]
    },
    {
      "cell_type": "code",
      "source": [
        "## Problem 7: List 5 community areas with highest % of households below poverty line.\n",
        "\n",
        "statement = '''SELECT COMMUNITY_AREA_NAME, PERCENT_HOUSEHOLDS_BELOW_POVERTY FROM CENSUS_DATA ORDER BY PERCENT_HOUSEHOLDS_BELOW_POVERTY DESC LIMIT 5'''\n",
        "cursor_obj.execute(statement)\n",
        "output_many = cursor_obj.fetchall()\n",
        "for row_many in output_many:\n",
        "  print(row_many)"
      ],
      "metadata": {
        "colab": {
          "base_uri": "https://localhost:8080/"
        },
        "id": "6yxqcPzHRjo_",
        "outputId": "f3016073-5023-4807-b6f2-4f69a6846c8c"
      },
      "execution_count": 21,
      "outputs": [
        {
          "output_type": "stream",
          "name": "stdout",
          "text": [
            "('Riverdale', 56.5)\n",
            "('Fuller Park', 51.2)\n",
            "('Englewood', 46.6)\n",
            "('North Lawndale', 43.1)\n",
            "('East Garfield Park', 42.4)\n"
          ]
        }
      ]
    },
    {
      "cell_type": "code",
      "source": [
        "## Problem 8: Which community area(number) is most crime prone?\n",
        "\n",
        "statement = '''SELECT COMMUNITY_AREA_NUMBER, COUNT(ID) FROM CHICAGO_CRIME_DATA GROUP BY COMMUNITY_AREA_NUMBER ORDER BY COUNT(ID) DESC LIMIT 1'''\n",
        "cursor_obj.execute(statement)\n",
        "output_many = cursor_obj.fetchall()\n",
        "for row_many in output_many:\n",
        "  print(row_many)"
      ],
      "metadata": {
        "colab": {
          "base_uri": "https://localhost:8080/"
        },
        "id": "r5HMD2L_TE-F",
        "outputId": "b7a395b2-9033-4778-bbbb-ab9fc3d9a8c3"
      },
      "execution_count": 24,
      "outputs": [
        {
          "output_type": "stream",
          "name": "stdout",
          "text": [
            "(25.0, 43)\n"
          ]
        }
      ]
    },
    {
      "cell_type": "code",
      "source": [
        "## Problem 9: Use a sub-query to find the name of the community area with highest hardship index.\n",
        "\n",
        "statement = '''SELECT COMMUNITY_AREA_NAME FROM CENSUS_DATA WHERE HARDSHIP_INDEX=(SELECT MAX(HARDSHIP_INDEX) FROM CENSUS_DATA)'''\n",
        "cursor_obj.execute(statement)\n",
        "output_many = cursor_obj.fetchall()\n",
        "for row_many in output_many:\n",
        "  print(row_many)"
      ],
      "metadata": {
        "colab": {
          "base_uri": "https://localhost:8080/"
        },
        "id": "pRjioOHYiO74",
        "outputId": "2eee15b4-ce26-4fcd-823c-4683dc1dc584"
      },
      "execution_count": 25,
      "outputs": [
        {
          "output_type": "stream",
          "name": "stdout",
          "text": [
            "('Riverdale',)\n"
          ]
        }
      ]
    },
    {
      "cell_type": "code",
      "source": [
        "## Problem 10: Use a sub-query to determine the Community Area Name with most number of crimes?\n",
        "\n",
        "statement = '''SELECT COMMUNITY_AREA_NAME FROM CENSUS_DATA\n",
        "              WHERE COMMUNITY_AREA_NUMBER =\n",
        "              (SELECT COMMUNITY_AREA_NUMBER FROM\n",
        "              (SELECT COMMUNITY_AREA_NUMBER, COUNT(ID) FROM CHICAGO_CRIME_DATA GROUP BY COMMUNITY_AREA_NUMBER ORDER BY COUNT(ID) DESC) LIMIT 1)'''\n",
        "cursor_obj.execute(statement)\n",
        "output_many = cursor_obj.fetchall()\n",
        "for row_many in output_many:\n",
        "  print(row_many)\n"
      ],
      "metadata": {
        "colab": {
          "base_uri": "https://localhost:8080/"
        },
        "id": "tnLuWaQDmWxP",
        "outputId": "be293ab3-a4a2-42d3-91f7-be445f9b3b9f"
      },
      "execution_count": 29,
      "outputs": [
        {
          "output_type": "stream",
          "name": "stdout",
          "text": [
            "('Austin',)\n"
          ]
        }
      ]
    }
  ]
}